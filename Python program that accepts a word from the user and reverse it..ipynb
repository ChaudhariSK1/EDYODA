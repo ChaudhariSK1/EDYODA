{
 "cells": [
  {
   "cell_type": "code",
   "execution_count": 2,
   "id": "ce370471",
   "metadata": {},
   "outputs": [
    {
     "name": "stdout",
     "output_type": "stream",
     "text": [
      "Edyoda\n",
      "adoydE\n"
     ]
    }
   ],
   "source": [
    "\"\"\"Python program that accepts a word from the user and reverse it.\n",
    "   Sample Test Case\n",
    "   Input : Edyoda\n",
    "   output: adoydE\n",
    "   Program by: Sanket Chaudhari\n",
    "   Email: sanket22499@gmail.com\"\"\"\n",
    "\n",
    "SK=input(\"\")\n",
    "reverse= SK[::-1]\n",
    "print(reverse)"
   ]
  },
  {
   "cell_type": "code",
   "execution_count": null,
   "id": "b00766c4",
   "metadata": {},
   "outputs": [],
   "source": []
  }
 ],
 "metadata": {
  "kernelspec": {
   "display_name": "Python 3 (ipykernel)",
   "language": "python",
   "name": "python3"
  },
  "language_info": {
   "codemirror_mode": {
    "name": "ipython",
    "version": 3
   },
   "file_extension": ".py",
   "mimetype": "text/x-python",
   "name": "python",
   "nbconvert_exporter": "python",
   "pygments_lexer": "ipython3",
   "version": "3.7.1"
  }
 },
 "nbformat": 4,
 "nbformat_minor": 5
}
