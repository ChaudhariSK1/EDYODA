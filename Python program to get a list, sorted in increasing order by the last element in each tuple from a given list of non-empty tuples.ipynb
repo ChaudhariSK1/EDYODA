{
 "cells": [
  {
   "cell_type": "code",
   "execution_count": 2,
   "id": "49b2c2e1",
   "metadata": {},
   "outputs": [
    {
     "name": "stdout",
     "output_type": "stream",
     "text": [
      "[(2, 1), (1, 2), (2, 3), (4, 4), (2, 5)]\n"
     ]
    }
   ],
   "source": [
    "def last(z):\n",
    "    return z[-1]  \n",
    "   \n",
    "def sort(List):\n",
    "    return sorted(List, key=last)\n",
    "   \n",
    "x=[(2, 5), (1, 2), (4, 4), (2, 3), (2, 1)]\n",
    "print(sort(x))"
   ]
  },
  {
   "cell_type": "code",
   "execution_count": null,
   "id": "c1769637",
   "metadata": {},
   "outputs": [],
   "source": []
  }
 ],
 "metadata": {
  "kernelspec": {
   "display_name": "Python 3 (ipykernel)",
   "language": "python",
   "name": "python3"
  },
  "language_info": {
   "codemirror_mode": {
    "name": "ipython",
    "version": 3
   },
   "file_extension": ".py",
   "mimetype": "text/x-python",
   "name": "python",
   "nbconvert_exporter": "python",
   "pygments_lexer": "ipython3",
   "version": "3.7.1"
  }
 },
 "nbformat": 4,
 "nbformat_minor": 5
}
