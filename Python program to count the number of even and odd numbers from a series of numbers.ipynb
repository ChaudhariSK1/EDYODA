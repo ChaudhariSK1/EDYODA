{
 "cells": [
  {
   "cell_type": "code",
   "execution_count": 3,
   "id": "cbacd09e",
   "metadata": {},
   "outputs": [
    {
     "name": "stdout",
     "output_type": "stream",
     "text": [
      "Number of even numbers : 4\n",
      "Number of odd numbers : 5\n"
     ]
    }
   ],
   "source": [
    "\"\"\"Python program to count the number of even and odd numbers from a series of numbers\n",
    "   Sample numbers : numbers = (1, 2, 3, 4, 5, 6, 7, 8, 9) \n",
    "   Expected Output :\n",
    "   Number of even numbers : 4\n",
    "   Number of odd numbers : 5\n",
    "   Program by: Sanket Chaudhari\n",
    "   Email: sanket22499@gmail.com\"\"\"\n",
    "\n",
    "sk = (1,2,3,4,5,6,7,8,9)  \n",
    "even=0\n",
    "odd= 0 \n",
    "\n",
    "for i in sk:\n",
    "      \n",
    "    if i % 2 == 0:\n",
    "        even += 1\n",
    "  \n",
    "    else:\n",
    "        odd+= 1\n",
    "          \n",
    "print(\"Number of even numbers :\", even)\n",
    "print(\"Number of odd numbers :\", odd)"
   ]
  },
  {
   "cell_type": "code",
   "execution_count": null,
   "id": "4c82e341",
   "metadata": {},
   "outputs": [],
   "source": []
  }
 ],
 "metadata": {
  "kernelspec": {
   "display_name": "Python 3 (ipykernel)",
   "language": "python",
   "name": "python3"
  },
  "language_info": {
   "codemirror_mode": {
    "name": "ipython",
    "version": 3
   },
   "file_extension": ".py",
   "mimetype": "text/x-python",
   "name": "python",
   "nbconvert_exporter": "python",
   "pygments_lexer": "ipython3",
   "version": "3.7.1"
  }
 },
 "nbformat": 4,
 "nbformat_minor": 5
}
