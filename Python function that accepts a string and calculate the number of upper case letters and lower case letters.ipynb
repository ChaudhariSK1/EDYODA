{
 "cells": [
  {
   "cell_type": "code",
   "execution_count": 23,
   "id": "52cda5ca",
   "metadata": {},
   "outputs": [
    {
     "name": "stdout",
     "output_type": "stream",
     "text": [
      "No. of Upper case characters :  3\n",
      "No. of Lower case Characters :  13\n"
     ]
    }
   ],
   "source": [
    "def count(xy):\n",
    "    \n",
    "    a=0\n",
    "    b=0\n",
    "    \n",
    "    for o in xy:\n",
    "        if o.isupper():\n",
    "           a+=1\n",
    "        elif o.islower():\n",
    "           b+=1\n",
    "        else:\n",
    "           pass\n",
    "    print (\"No. of Upper case characters : \", a)\n",
    "    print (\"No. of Lower case Characters : \", b)\n",
    "\n",
    "count(The quick Brow Fox\")\n"
   ]
  },
  {
   "cell_type": "markdown",
   "id": "9ac9ee57",
   "metadata": {},
   "source": []
  },
  {
   "cell_type": "code",
   "execution_count": null,
   "id": "38c8f466",
   "metadata": {},
   "outputs": [],
   "source": []
  },
  {
   "cell_type": "code",
   "execution_count": null,
   "id": "5bfc3024",
   "metadata": {},
   "outputs": [],
   "source": []
  }
 ],
 "metadata": {
  "kernelspec": {
   "display_name": "Python 3 (ipykernel)",
   "language": "python",
   "name": "python3"
  },
  "language_info": {
   "codemirror_mode": {
    "name": "ipython",
    "version": 3
   },
   "file_extension": ".py",
   "mimetype": "text/x-python",
   "name": "python",
   "nbconvert_exporter": "python",
   "pygments_lexer": "ipython3",
   "version": "3.7.1"
  }
 },
 "nbformat": 4,
 "nbformat_minor": 5
}
