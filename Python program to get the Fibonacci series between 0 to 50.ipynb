{
 "cells": [
  {
   "cell_type": "code",
   "execution_count": 5,
   "id": "e8155e76",
   "metadata": {},
   "outputs": [
    {
     "name": "stdout",
     "output_type": "stream",
     "text": [
      "1 1 2 3 5 8 13 21 34 "
     ]
    }
   ],
   "source": [
    "\"\"\"Python program to get the Fibonacci series between 0 to 50\n",
    "   Expected Output : 1 1 2 3 5 8 13 21 34 \n",
    "   Program by: Sanket Chaudhari\n",
    "   Email: sanket22499@gmail.com\"\"\"\n",
    "\n",
    "n = 50\n",
    "x=0\n",
    "y = 1\n",
    "while( y < n ):  \n",
    "    \n",
    "   print(y, end = \" \")\n",
    "   x, y= y,x + y "
   ]
  },
  {
   "cell_type": "code",
   "execution_count": null,
   "id": "6199b7d6",
   "metadata": {},
   "outputs": [],
   "source": []
  }
 ],
 "metadata": {
  "kernelspec": {
   "display_name": "Python 3 (ipykernel)",
   "language": "python",
   "name": "python3"
  },
  "language_info": {
   "codemirror_mode": {
    "name": "ipython",
    "version": 3
   },
   "file_extension": ".py",
   "mimetype": "text/x-python",
   "name": "python",
   "nbconvert_exporter": "python",
   "pygments_lexer": "ipython3",
   "version": "3.7.1"
  }
 },
 "nbformat": 4,
 "nbformat_minor": 5
}
